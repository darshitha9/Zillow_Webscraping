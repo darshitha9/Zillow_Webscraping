{
 "cells": [
  {
   "cell_type": "code",
   "execution_count": 1,
   "id": "bb5f3c66",
   "metadata": {},
   "outputs": [],
   "source": [
    "#importing the libraries\n",
    "import requests \n",
    "from bs4 import BeautifulSoup as BS\n",
    "import re\n",
    "import pandas as pd\n",
    "import numpy as np"
   ]
  },
  {
   "cell_type": "code",
   "execution_count": null,
   "id": "d623401a",
   "metadata": {},
   "outputs": [],
   "source": []
  },
  {
   "cell_type": "code",
   "execution_count": 2,
   "id": "8038cce6",
   "metadata": {},
   "outputs": [
    {
     "data": {
      "text/plain": [
       "['https://www.redfin.com/county/303/CA/Alameda-County',\n",
       " 'https://www.redfin.com/county/303/CA/Alameda-County/page-2',\n",
       " 'https://www.redfin.com/county/303/CA/Alameda-County/page-3',\n",
       " 'https://www.redfin.com/county/303/CA/Alameda-County/page-4',\n",
       " 'https://www.redfin.com/county/303/CA/Alameda-County/page-5',\n",
       " 'https://www.redfin.com/county/303/CA/Alameda-County/page-6',\n",
       " 'https://www.redfin.com/county/303/CA/Alameda-County/page-7',\n",
       " 'https://www.redfin.com/county/303/CA/Alameda-County/page-8',\n",
       " 'https://www.redfin.com/county/303/CA/Alameda-County/page-9',\n",
       " 'https://www.redfin.com/county/340/CA/San-Francisco-County',\n",
       " 'https://www.redfin.com/county/340/CA/San-Francisco-County/page-2',\n",
       " 'https://www.redfin.com/county/340/CA/San-Francisco-County/page-3',\n",
       " 'https://www.redfin.com/county/340/CA/San-Francisco-County/page-4',\n",
       " 'https://www.redfin.com/county/340/CA/San-Francisco-County/page-5',\n",
       " 'https://www.redfin.com/county/340/CA/San-Francisco-County/page-6',\n",
       " 'https://www.redfin.com/county/340/CA/San-Francisco-County/page-7',\n",
       " 'https://www.redfin.com/county/340/CA/San-Francisco-County/page-8',\n",
       " 'https://www.redfin.com/county/340/CA/San-Francisco-County/page-9',\n",
       " 'https://www.redfin.com/county/341/CA/San-Joaquin-County',\n",
       " 'https://www.redfin.com/county/341/CA/San-Joaquin-County/page-2',\n",
       " 'https://www.redfin.com/county/341/CA/San-Joaquin-County/page-3',\n",
       " 'https://www.redfin.com/county/341/CA/San-Joaquin-County/page-4',\n",
       " 'https://www.redfin.com/county/341/CA/San-Joaquin-County/page-5',\n",
       " 'https://www.redfin.com/county/341/CA/San-Joaquin-County/page-6',\n",
       " 'https://www.redfin.com/county/341/CA/San-Joaquin-County/page-7',\n",
       " 'https://www.redfin.com/county/341/CA/San-Joaquin-County/page-8',\n",
       " 'https://www.redfin.com/county/341/CA/San-Joaquin-County/page-9',\n",
       " 'https://www.redfin.com/county/341/CA/San-Joaquin-County/page-10',\n",
       " 'https://www.redfin.com/county/341/CA/San-Joaquin-County/page-11',\n",
       " 'https://www.redfin.com/county/341/CA/San-Joaquin-County/page-12',\n",
       " 'https://www.redfin.com/county/341/CA/San-Joaquin-County/page-13',\n",
       " 'https://www.redfin.com/county/341/CA/San-Joaquin-County/page-14',\n",
       " 'https://www.redfin.com/county/341/CA/San-Joaquin-County/page-15',\n",
       " 'https://www.redfin.com/county/341/CA/San-Joaquin-County/page-16',\n",
       " 'https://www.redfin.com/county/341/CA/San-Joaquin-County/page-17',\n",
       " 'https://www.redfin.com/county/341/CA/San-Joaquin-County/page-18',\n",
       " 'https://www.redfin.com/county/341/CA/San-Joaquin-County/page-19',\n",
       " 'https://www.redfin.com/county/341/CA/San-Joaquin-County/page-20',\n",
       " 'https://www.redfin.com/county/341/CA/San-Joaquin-County/page-21',\n",
       " 'https://www.redfin.com/county/341/CA/San-Joaquin-County/page-22',\n",
       " 'https://www.redfin.com/county/341/CA/San-Joaquin-County/page-23',\n",
       " 'https://www.redfin.com/county/341/CA/San-Joaquin-County/page-24',\n",
       " 'https://www.redfin.com/county/341/CA/San-Joaquin-County/page-25',\n",
       " 'https://www.redfin.com/county/341/CA/San-Joaquin-County/page-26',\n",
       " 'https://www.redfin.com/county/341/CA/San-Joaquin-County/page-27',\n",
       " 'https://www.redfin.com/county/343/CA/San-Mateo-County',\n",
       " 'https://www.redfin.com/county/343/CA/San-Mateo-County/page-2',\n",
       " 'https://www.redfin.com/county/343/CA/San-Mateo-County/page-3',\n",
       " 'https://www.redfin.com/county/343/CA/San-Mateo-County/page-4',\n",
       " 'https://www.redfin.com/county/343/CA/San-Mateo-County/page-5',\n",
       " 'https://www.redfin.com/county/343/CA/San-Mateo-County/page-6',\n",
       " 'https://www.redfin.com/county/343/CA/San-Mateo-County/page-7',\n",
       " 'https://www.redfin.com/county/343/CA/San-Mateo-County/page-8',\n",
       " 'https://www.redfin.com/county/343/CA/San-Mateo-County/page-9',\n",
       " 'https://www.redfin.com/county/345/CA/Santa-Clara-County',\n",
       " 'https://www.redfin.com/county/345/CA/Santa-Clara-County/page-2',\n",
       " 'https://www.redfin.com/county/345/CA/Santa-Clara-County/page-3',\n",
       " 'https://www.redfin.com/county/345/CA/Santa-Clara-County/page-4',\n",
       " 'https://www.redfin.com/county/345/CA/Santa-Clara-County/page-5',\n",
       " 'https://www.redfin.com/county/345/CA/Santa-Clara-County/page-6',\n",
       " 'https://www.redfin.com/county/345/CA/Santa-Clara-County/page-7',\n",
       " 'https://www.redfin.com/county/345/CA/Santa-Clara-County/page-8',\n",
       " 'https://www.redfin.com/county/345/CA/Santa-Clara-County/page-9',\n",
       " 'https://www.redfin.com/county/345/CA/Santa-Clara-County/page-10',\n",
       " 'https://www.redfin.com/county/345/CA/Santa-Clara-County/page-11',\n",
       " 'https://www.redfin.com/county/345/CA/Santa-Clara-County/page-12',\n",
       " 'https://www.redfin.com/county/345/CA/Santa-Clara-County/page-13',\n",
       " 'https://www.redfin.com/county/345/CA/Santa-Clara-County/page-14',\n",
       " 'https://www.redfin.com/county/345/CA/Santa-Clara-County/page-15',\n",
       " 'https://www.redfin.com/county/345/CA/Santa-Clara-County/page-16',\n",
       " 'https://www.redfin.com/county/345/CA/Santa-Clara-County/page-17',\n",
       " 'https://www.redfin.com/county/345/CA/Santa-Clara-County/page-18',\n",
       " 'https://www.redfin.com/county/345/CA/Santa-Clara-County/page-19',\n",
       " 'https://www.redfin.com/county/345/CA/Santa-Clara-County/page-20',\n",
       " 'https://www.redfin.com/county/345/CA/Santa-Clara-County/page-21',\n",
       " 'https://www.redfin.com/county/345/CA/Santa-Clara-County/page-22',\n",
       " 'https://www.redfin.com/county/345/CA/Santa-Clara-County/page-23',\n",
       " 'https://www.redfin.com/county/345/CA/Santa-Clara-County/page-24',\n",
       " 'https://www.redfin.com/county/345/CA/Santa-Clara-County/page-25',\n",
       " 'https://www.redfin.com/county/345/CA/Santa-Clara-County/page-26',\n",
       " 'https://www.redfin.com/county/345/CA/Santa-Clara-County/page-27',\n",
       " 'https://www.redfin.com/county/345/CA/Santa-Clara-County/page-28']"
      ]
     },
     "execution_count": 2,
     "metadata": {},
     "output_type": "execute_result"
    }
   ],
   "source": [
    "#generating all webpages of each county\n",
    "x = ['https://www.redfin.com/county/303/CA/Alameda-County',\n",
    "    'https://www.redfin.com/county/340/CA/San-Francisco-County','https://www.redfin.com/county/341/CA/San-Joaquin-County',\n",
    "    'https://www.redfin.com/county/343/CA/San-Mateo-County',\n",
    "    'https://www.redfin.com/county/345/CA/Santa-Clara-County']\n",
    "county_links =[]\n",
    "for c_l in x:\n",
    "    c_text = requests.get(c_l,headers={'User-Agent': 'Mozilla/5.0'}).text\n",
    "    c_soup = BS(c_text,'html5lib')\n",
    "    page_number=int(c_soup.find('span',attrs={'class':'pageText'}).text.split('of ')[1])\n",
    "    county_links.append(c_l)\n",
    "    if page_number>1:\n",
    "        for num in range(2,page_number+1):\n",
    "            str_num=str(num)\n",
    "            new_c_l = c_l+'/page-'+str_num\n",
    "            county_links.append(new_c_l)\n",
    "county_links"
   ]
  },
  {
   "cell_type": "code",
   "execution_count": null,
   "id": "0c24fb85",
   "metadata": {},
   "outputs": [],
   "source": []
  },
  {
   "cell_type": "code",
   "execution_count": null,
   "id": "b5eade20",
   "metadata": {},
   "outputs": [],
   "source": []
  },
  {
   "cell_type": "code",
   "execution_count": null,
   "id": "81f32d11",
   "metadata": {},
   "outputs": [],
   "source": []
  },
  {
   "cell_type": "code",
   "execution_count": 3,
   "id": "5172aa27",
   "metadata": {},
   "outputs": [
    {
     "ename": "ChunkedEncodingError",
     "evalue": "(\"Connection broken: InvalidChunkLength(got length b'', 0 bytes read)\", InvalidChunkLength(got length b'', 0 bytes read))",
     "output_type": "error",
     "traceback": [
      "\u001b[0;31m---------------------------------------------------------------------------\u001b[0m",
      "\u001b[0;31mValueError\u001b[0m                                Traceback (most recent call last)",
      "File \u001b[0;32m~/opt/anaconda3/lib/python3.9/site-packages/urllib3/response.py:700\u001b[0m, in \u001b[0;36mHTTPResponse._update_chunk_length\u001b[0;34m(self)\u001b[0m\n\u001b[1;32m    699\u001b[0m \u001b[38;5;28;01mtry\u001b[39;00m:\n\u001b[0;32m--> 700\u001b[0m     \u001b[38;5;28mself\u001b[39m\u001b[38;5;241m.\u001b[39mchunk_left \u001b[38;5;241m=\u001b[39m \u001b[38;5;28;43mint\u001b[39;49m\u001b[43m(\u001b[49m\u001b[43mline\u001b[49m\u001b[43m,\u001b[49m\u001b[43m \u001b[49m\u001b[38;5;241;43m16\u001b[39;49m\u001b[43m)\u001b[49m\n\u001b[1;32m    701\u001b[0m \u001b[38;5;28;01mexcept\u001b[39;00m \u001b[38;5;167;01mValueError\u001b[39;00m:\n\u001b[1;32m    702\u001b[0m     \u001b[38;5;66;03m# Invalid chunked protocol response, abort.\u001b[39;00m\n",
      "\u001b[0;31mValueError\u001b[0m: invalid literal for int() with base 16: b''",
      "\nDuring handling of the above exception, another exception occurred:\n",
      "\u001b[0;31mInvalidChunkLength\u001b[0m                        Traceback (most recent call last)",
      "File \u001b[0;32m~/opt/anaconda3/lib/python3.9/site-packages/urllib3/response.py:441\u001b[0m, in \u001b[0;36mHTTPResponse._error_catcher\u001b[0;34m(self)\u001b[0m\n\u001b[1;32m    440\u001b[0m \u001b[38;5;28;01mtry\u001b[39;00m:\n\u001b[0;32m--> 441\u001b[0m     \u001b[38;5;28;01myield\u001b[39;00m\n\u001b[1;32m    443\u001b[0m \u001b[38;5;28;01mexcept\u001b[39;00m SocketTimeout:\n\u001b[1;32m    444\u001b[0m     \u001b[38;5;66;03m# FIXME: Ideally we'd like to include the url in the ReadTimeoutError but\u001b[39;00m\n\u001b[1;32m    445\u001b[0m     \u001b[38;5;66;03m# there is yet no clean way to get at it from this context.\u001b[39;00m\n",
      "File \u001b[0;32m~/opt/anaconda3/lib/python3.9/site-packages/urllib3/response.py:767\u001b[0m, in \u001b[0;36mHTTPResponse.read_chunked\u001b[0;34m(self, amt, decode_content)\u001b[0m\n\u001b[1;32m    766\u001b[0m \u001b[38;5;28;01mwhile\u001b[39;00m \u001b[38;5;28;01mTrue\u001b[39;00m:\n\u001b[0;32m--> 767\u001b[0m     \u001b[38;5;28;43mself\u001b[39;49m\u001b[38;5;241;43m.\u001b[39;49m\u001b[43m_update_chunk_length\u001b[49m\u001b[43m(\u001b[49m\u001b[43m)\u001b[49m\n\u001b[1;32m    768\u001b[0m     \u001b[38;5;28;01mif\u001b[39;00m \u001b[38;5;28mself\u001b[39m\u001b[38;5;241m.\u001b[39mchunk_left \u001b[38;5;241m==\u001b[39m \u001b[38;5;241m0\u001b[39m:\n",
      "File \u001b[0;32m~/opt/anaconda3/lib/python3.9/site-packages/urllib3/response.py:704\u001b[0m, in \u001b[0;36mHTTPResponse._update_chunk_length\u001b[0;34m(self)\u001b[0m\n\u001b[1;32m    703\u001b[0m \u001b[38;5;28mself\u001b[39m\u001b[38;5;241m.\u001b[39mclose()\n\u001b[0;32m--> 704\u001b[0m \u001b[38;5;28;01mraise\u001b[39;00m InvalidChunkLength(\u001b[38;5;28mself\u001b[39m, line)\n",
      "\u001b[0;31mInvalidChunkLength\u001b[0m: InvalidChunkLength(got length b'', 0 bytes read)",
      "\nDuring handling of the above exception, another exception occurred:\n",
      "\u001b[0;31mProtocolError\u001b[0m                             Traceback (most recent call last)",
      "File \u001b[0;32m~/opt/anaconda3/lib/python3.9/site-packages/requests/models.py:760\u001b[0m, in \u001b[0;36mResponse.iter_content.<locals>.generate\u001b[0;34m()\u001b[0m\n\u001b[1;32m    759\u001b[0m \u001b[38;5;28;01mtry\u001b[39;00m:\n\u001b[0;32m--> 760\u001b[0m     \u001b[38;5;28;01mfor\u001b[39;00m chunk \u001b[38;5;129;01min\u001b[39;00m \u001b[38;5;28mself\u001b[39m\u001b[38;5;241m.\u001b[39mraw\u001b[38;5;241m.\u001b[39mstream(chunk_size, decode_content\u001b[38;5;241m=\u001b[39m\u001b[38;5;28;01mTrue\u001b[39;00m):\n\u001b[1;32m    761\u001b[0m         \u001b[38;5;28;01myield\u001b[39;00m chunk\n",
      "File \u001b[0;32m~/opt/anaconda3/lib/python3.9/site-packages/urllib3/response.py:575\u001b[0m, in \u001b[0;36mHTTPResponse.stream\u001b[0;34m(self, amt, decode_content)\u001b[0m\n\u001b[1;32m    574\u001b[0m \u001b[38;5;28;01mif\u001b[39;00m \u001b[38;5;28mself\u001b[39m\u001b[38;5;241m.\u001b[39mchunked \u001b[38;5;129;01mand\u001b[39;00m \u001b[38;5;28mself\u001b[39m\u001b[38;5;241m.\u001b[39msupports_chunked_reads():\n\u001b[0;32m--> 575\u001b[0m     \u001b[38;5;28;01mfor\u001b[39;00m line \u001b[38;5;129;01min\u001b[39;00m \u001b[38;5;28mself\u001b[39m\u001b[38;5;241m.\u001b[39mread_chunked(amt, decode_content\u001b[38;5;241m=\u001b[39mdecode_content):\n\u001b[1;32m    576\u001b[0m         \u001b[38;5;28;01myield\u001b[39;00m line\n",
      "File \u001b[0;32m~/opt/anaconda3/lib/python3.9/site-packages/urllib3/response.py:796\u001b[0m, in \u001b[0;36mHTTPResponse.read_chunked\u001b[0;34m(self, amt, decode_content)\u001b[0m\n\u001b[1;32m    795\u001b[0m \u001b[38;5;28;01mif\u001b[39;00m \u001b[38;5;28mself\u001b[39m\u001b[38;5;241m.\u001b[39m_original_response:\n\u001b[0;32m--> 796\u001b[0m     \u001b[38;5;28mself\u001b[39m\u001b[38;5;241m.\u001b[39m_original_response\u001b[38;5;241m.\u001b[39mclose()\n",
      "File \u001b[0;32m~/opt/anaconda3/lib/python3.9/contextlib.py:137\u001b[0m, in \u001b[0;36m_GeneratorContextManager.__exit__\u001b[0;34m(self, typ, value, traceback)\u001b[0m\n\u001b[1;32m    136\u001b[0m \u001b[38;5;28;01mtry\u001b[39;00m:\n\u001b[0;32m--> 137\u001b[0m     \u001b[38;5;28;43mself\u001b[39;49m\u001b[38;5;241;43m.\u001b[39;49m\u001b[43mgen\u001b[49m\u001b[38;5;241;43m.\u001b[39;49m\u001b[43mthrow\u001b[49m\u001b[43m(\u001b[49m\u001b[43mtyp\u001b[49m\u001b[43m,\u001b[49m\u001b[43m \u001b[49m\u001b[43mvalue\u001b[49m\u001b[43m,\u001b[49m\u001b[43m \u001b[49m\u001b[43mtraceback\u001b[49m\u001b[43m)\u001b[49m\n\u001b[1;32m    138\u001b[0m \u001b[38;5;28;01mexcept\u001b[39;00m \u001b[38;5;167;01mStopIteration\u001b[39;00m \u001b[38;5;28;01mas\u001b[39;00m exc:\n\u001b[1;32m    139\u001b[0m     \u001b[38;5;66;03m# Suppress StopIteration *unless* it's the same exception that\u001b[39;00m\n\u001b[1;32m    140\u001b[0m     \u001b[38;5;66;03m# was passed to throw().  This prevents a StopIteration\u001b[39;00m\n\u001b[1;32m    141\u001b[0m     \u001b[38;5;66;03m# raised inside the \"with\" statement from being suppressed.\u001b[39;00m\n",
      "File \u001b[0;32m~/opt/anaconda3/lib/python3.9/site-packages/urllib3/response.py:458\u001b[0m, in \u001b[0;36mHTTPResponse._error_catcher\u001b[0;34m(self)\u001b[0m\n\u001b[1;32m    456\u001b[0m \u001b[38;5;28;01mexcept\u001b[39;00m (HTTPException, SocketError) \u001b[38;5;28;01mas\u001b[39;00m e:\n\u001b[1;32m    457\u001b[0m     \u001b[38;5;66;03m# This includes IncompleteRead.\u001b[39;00m\n\u001b[0;32m--> 458\u001b[0m     \u001b[38;5;28;01mraise\u001b[39;00m ProtocolError(\u001b[38;5;124m\"\u001b[39m\u001b[38;5;124mConnection broken: \u001b[39m\u001b[38;5;132;01m%r\u001b[39;00m\u001b[38;5;124m\"\u001b[39m \u001b[38;5;241m%\u001b[39m e, e)\n\u001b[1;32m    460\u001b[0m \u001b[38;5;66;03m# If no exception is thrown, we should avoid cleaning up\u001b[39;00m\n\u001b[1;32m    461\u001b[0m \u001b[38;5;66;03m# unnecessarily.\u001b[39;00m\n",
      "\u001b[0;31mProtocolError\u001b[0m: (\"Connection broken: InvalidChunkLength(got length b'', 0 bytes read)\", InvalidChunkLength(got length b'', 0 bytes read))",
      "\nDuring handling of the above exception, another exception occurred:\n",
      "\u001b[0;31mChunkedEncodingError\u001b[0m                      Traceback (most recent call last)",
      "Input \u001b[0;32mIn [3]\u001b[0m, in \u001b[0;36m<cell line: 5>\u001b[0;34m()\u001b[0m\n\u001b[1;32m      6\u001b[0m county_url \u001b[38;5;241m=\u001b[39m url\n\u001b[1;32m      7\u001b[0m county_name_list \u001b[38;5;241m=\u001b[39m re\u001b[38;5;241m.\u001b[39mfindall(\u001b[38;5;124m'\u001b[39m\u001b[38;5;124mCA/([^/]+)\u001b[39m\u001b[38;5;124m'\u001b[39m,county_url)\n\u001b[0;32m----> 8\u001b[0m text \u001b[38;5;241m=\u001b[39m \u001b[43mrequests\u001b[49m\u001b[38;5;241;43m.\u001b[39;49m\u001b[43mget\u001b[49m\u001b[43m(\u001b[49m\u001b[43murl\u001b[49m\u001b[43m,\u001b[49m\u001b[43m \u001b[49m\u001b[43mheaders\u001b[49m\u001b[38;5;241;43m=\u001b[39;49m\u001b[43m{\u001b[49m\u001b[38;5;124;43m'\u001b[39;49m\u001b[38;5;124;43mUser-Agent\u001b[39;49m\u001b[38;5;124;43m'\u001b[39;49m\u001b[43m:\u001b[49m\u001b[43m \u001b[49m\u001b[38;5;124;43m'\u001b[39;49m\u001b[38;5;124;43mMozilla/5.0\u001b[39;49m\u001b[38;5;124;43m'\u001b[39;49m\u001b[43m}\u001b[49m\u001b[43m)\u001b[49m\u001b[38;5;241m.\u001b[39mtext\n\u001b[1;32m      9\u001b[0m soup \u001b[38;5;241m=\u001b[39m BS(text,\u001b[38;5;124m'\u001b[39m\u001b[38;5;124mhtml5lib\u001b[39m\u001b[38;5;124m'\u001b[39m)\n\u001b[1;32m     10\u001b[0m all_links \u001b[38;5;241m=\u001b[39m [a[\u001b[38;5;124m'\u001b[39m\u001b[38;5;124mhref\u001b[39m\u001b[38;5;124m'\u001b[39m] \u001b[38;5;28;01mfor\u001b[39;00m a \u001b[38;5;129;01min\u001b[39;00m soup(\u001b[38;5;124m'\u001b[39m\u001b[38;5;124ma\u001b[39m\u001b[38;5;124m'\u001b[39m) \u001b[38;5;28;01mif\u001b[39;00m a\u001b[38;5;241m.\u001b[39mhas_attr(\u001b[38;5;124m'\u001b[39m\u001b[38;5;124mhref\u001b[39m\u001b[38;5;124m'\u001b[39m)] \u001b[38;5;66;03m#extracting all links on the webpage\u001b[39;00m\n",
      "File \u001b[0;32m~/opt/anaconda3/lib/python3.9/site-packages/requests/api.py:75\u001b[0m, in \u001b[0;36mget\u001b[0;34m(url, params, **kwargs)\u001b[0m\n\u001b[1;32m     64\u001b[0m \u001b[38;5;28;01mdef\u001b[39;00m \u001b[38;5;21mget\u001b[39m(url, params\u001b[38;5;241m=\u001b[39m\u001b[38;5;28;01mNone\u001b[39;00m, \u001b[38;5;241m*\u001b[39m\u001b[38;5;241m*\u001b[39mkwargs):\n\u001b[1;32m     65\u001b[0m     \u001b[38;5;124mr\u001b[39m\u001b[38;5;124;03m\"\"\"Sends a GET request.\u001b[39;00m\n\u001b[1;32m     66\u001b[0m \n\u001b[1;32m     67\u001b[0m \u001b[38;5;124;03m    :param url: URL for the new :class:`Request` object.\u001b[39;00m\n\u001b[0;32m   (...)\u001b[0m\n\u001b[1;32m     72\u001b[0m \u001b[38;5;124;03m    :rtype: requests.Response\u001b[39;00m\n\u001b[1;32m     73\u001b[0m \u001b[38;5;124;03m    \"\"\"\u001b[39;00m\n\u001b[0;32m---> 75\u001b[0m     \u001b[38;5;28;01mreturn\u001b[39;00m \u001b[43mrequest\u001b[49m\u001b[43m(\u001b[49m\u001b[38;5;124;43m'\u001b[39;49m\u001b[38;5;124;43mget\u001b[39;49m\u001b[38;5;124;43m'\u001b[39;49m\u001b[43m,\u001b[49m\u001b[43m \u001b[49m\u001b[43murl\u001b[49m\u001b[43m,\u001b[49m\u001b[43m \u001b[49m\u001b[43mparams\u001b[49m\u001b[38;5;241;43m=\u001b[39;49m\u001b[43mparams\u001b[49m\u001b[43m,\u001b[49m\u001b[43m \u001b[49m\u001b[38;5;241;43m*\u001b[39;49m\u001b[38;5;241;43m*\u001b[39;49m\u001b[43mkwargs\u001b[49m\u001b[43m)\u001b[49m\n",
      "File \u001b[0;32m~/opt/anaconda3/lib/python3.9/site-packages/requests/api.py:61\u001b[0m, in \u001b[0;36mrequest\u001b[0;34m(method, url, **kwargs)\u001b[0m\n\u001b[1;32m     57\u001b[0m \u001b[38;5;66;03m# By using the 'with' statement we are sure the session is closed, thus we\u001b[39;00m\n\u001b[1;32m     58\u001b[0m \u001b[38;5;66;03m# avoid leaving sockets open which can trigger a ResourceWarning in some\u001b[39;00m\n\u001b[1;32m     59\u001b[0m \u001b[38;5;66;03m# cases, and look like a memory leak in others.\u001b[39;00m\n\u001b[1;32m     60\u001b[0m \u001b[38;5;28;01mwith\u001b[39;00m sessions\u001b[38;5;241m.\u001b[39mSession() \u001b[38;5;28;01mas\u001b[39;00m session:\n\u001b[0;32m---> 61\u001b[0m     \u001b[38;5;28;01mreturn\u001b[39;00m \u001b[43msession\u001b[49m\u001b[38;5;241;43m.\u001b[39;49m\u001b[43mrequest\u001b[49m\u001b[43m(\u001b[49m\u001b[43mmethod\u001b[49m\u001b[38;5;241;43m=\u001b[39;49m\u001b[43mmethod\u001b[49m\u001b[43m,\u001b[49m\u001b[43m \u001b[49m\u001b[43murl\u001b[49m\u001b[38;5;241;43m=\u001b[39;49m\u001b[43murl\u001b[49m\u001b[43m,\u001b[49m\u001b[43m \u001b[49m\u001b[38;5;241;43m*\u001b[39;49m\u001b[38;5;241;43m*\u001b[39;49m\u001b[43mkwargs\u001b[49m\u001b[43m)\u001b[49m\n",
      "File \u001b[0;32m~/opt/anaconda3/lib/python3.9/site-packages/requests/sessions.py:529\u001b[0m, in \u001b[0;36mSession.request\u001b[0;34m(self, method, url, params, data, headers, cookies, files, auth, timeout, allow_redirects, proxies, hooks, stream, verify, cert, json)\u001b[0m\n\u001b[1;32m    524\u001b[0m send_kwargs \u001b[38;5;241m=\u001b[39m {\n\u001b[1;32m    525\u001b[0m     \u001b[38;5;124m'\u001b[39m\u001b[38;5;124mtimeout\u001b[39m\u001b[38;5;124m'\u001b[39m: timeout,\n\u001b[1;32m    526\u001b[0m     \u001b[38;5;124m'\u001b[39m\u001b[38;5;124mallow_redirects\u001b[39m\u001b[38;5;124m'\u001b[39m: allow_redirects,\n\u001b[1;32m    527\u001b[0m }\n\u001b[1;32m    528\u001b[0m send_kwargs\u001b[38;5;241m.\u001b[39mupdate(settings)\n\u001b[0;32m--> 529\u001b[0m resp \u001b[38;5;241m=\u001b[39m \u001b[38;5;28;43mself\u001b[39;49m\u001b[38;5;241;43m.\u001b[39;49m\u001b[43msend\u001b[49m\u001b[43m(\u001b[49m\u001b[43mprep\u001b[49m\u001b[43m,\u001b[49m\u001b[43m \u001b[49m\u001b[38;5;241;43m*\u001b[39;49m\u001b[38;5;241;43m*\u001b[39;49m\u001b[43msend_kwargs\u001b[49m\u001b[43m)\u001b[49m\n\u001b[1;32m    531\u001b[0m \u001b[38;5;28;01mreturn\u001b[39;00m resp\n",
      "File \u001b[0;32m~/opt/anaconda3/lib/python3.9/site-packages/requests/sessions.py:687\u001b[0m, in \u001b[0;36mSession.send\u001b[0;34m(self, request, **kwargs)\u001b[0m\n\u001b[1;32m    684\u001b[0m         \u001b[38;5;28;01mpass\u001b[39;00m\n\u001b[1;32m    686\u001b[0m \u001b[38;5;28;01mif\u001b[39;00m \u001b[38;5;129;01mnot\u001b[39;00m stream:\n\u001b[0;32m--> 687\u001b[0m     \u001b[43mr\u001b[49m\u001b[38;5;241;43m.\u001b[39;49m\u001b[43mcontent\u001b[49m\n\u001b[1;32m    689\u001b[0m \u001b[38;5;28;01mreturn\u001b[39;00m r\n",
      "File \u001b[0;32m~/opt/anaconda3/lib/python3.9/site-packages/requests/models.py:838\u001b[0m, in \u001b[0;36mResponse.content\u001b[0;34m(self)\u001b[0m\n\u001b[1;32m    836\u001b[0m         \u001b[38;5;28mself\u001b[39m\u001b[38;5;241m.\u001b[39m_content \u001b[38;5;241m=\u001b[39m \u001b[38;5;28;01mNone\u001b[39;00m\n\u001b[1;32m    837\u001b[0m     \u001b[38;5;28;01melse\u001b[39;00m:\n\u001b[0;32m--> 838\u001b[0m         \u001b[38;5;28mself\u001b[39m\u001b[38;5;241m.\u001b[39m_content \u001b[38;5;241m=\u001b[39m \u001b[38;5;124;43mb\u001b[39;49m\u001b[38;5;124;43m'\u001b[39;49m\u001b[38;5;124;43m'\u001b[39;49m\u001b[38;5;241;43m.\u001b[39;49m\u001b[43mjoin\u001b[49m\u001b[43m(\u001b[49m\u001b[38;5;28;43mself\u001b[39;49m\u001b[38;5;241;43m.\u001b[39;49m\u001b[43miter_content\u001b[49m\u001b[43m(\u001b[49m\u001b[43mCONTENT_CHUNK_SIZE\u001b[49m\u001b[43m)\u001b[49m\u001b[43m)\u001b[49m \u001b[38;5;129;01mor\u001b[39;00m \u001b[38;5;124mb\u001b[39m\u001b[38;5;124m'\u001b[39m\u001b[38;5;124m'\u001b[39m\n\u001b[1;32m    840\u001b[0m \u001b[38;5;28mself\u001b[39m\u001b[38;5;241m.\u001b[39m_content_consumed \u001b[38;5;241m=\u001b[39m \u001b[38;5;28;01mTrue\u001b[39;00m\n\u001b[1;32m    841\u001b[0m \u001b[38;5;66;03m# don't need to release the connection; that's been handled by urllib3\u001b[39;00m\n\u001b[1;32m    842\u001b[0m \u001b[38;5;66;03m# since we exhausted the data.\u001b[39;00m\n",
      "File \u001b[0;32m~/opt/anaconda3/lib/python3.9/site-packages/requests/models.py:763\u001b[0m, in \u001b[0;36mResponse.iter_content.<locals>.generate\u001b[0;34m()\u001b[0m\n\u001b[1;32m    761\u001b[0m         \u001b[38;5;28;01myield\u001b[39;00m chunk\n\u001b[1;32m    762\u001b[0m \u001b[38;5;28;01mexcept\u001b[39;00m ProtocolError \u001b[38;5;28;01mas\u001b[39;00m e:\n\u001b[0;32m--> 763\u001b[0m     \u001b[38;5;28;01mraise\u001b[39;00m ChunkedEncodingError(e)\n\u001b[1;32m    764\u001b[0m \u001b[38;5;28;01mexcept\u001b[39;00m DecodeError \u001b[38;5;28;01mas\u001b[39;00m e:\n\u001b[1;32m    765\u001b[0m     \u001b[38;5;28;01mraise\u001b[39;00m ContentDecodingError(e)\n",
      "\u001b[0;31mChunkedEncodingError\u001b[0m: (\"Connection broken: InvalidChunkLength(got length b'', 0 bytes read)\", InvalidChunkLength(got length b'', 0 bytes read))"
     ]
    }
   ],
   "source": [
    "#Creating a dictionary with key - county , value - List of properties\n",
    "#extracting all links in a webpage using a href tags and using regex to identify the links for properties\n",
    "properties={}\n",
    "\n",
    "for url in county_links:\n",
    "    county_url = url\n",
    "    county_name_list = re.findall('CA/([^/]+)',county_url)\n",
    "    text = requests.get(url, headers={'User-Agent': 'Mozilla/5.0'}).text\n",
    "    soup = BS(text,'html5lib')\n",
    "    all_links = [a['href'] for a in soup('a') if a.has_attr('href')] #extracting all links on the webpage\n",
    "    regex = r\"^/CA\" #extracting only links for properties listed\n",
    "    one_county_prop_url = [link for link in all_links if re.match(regex,link)]\n",
    "    for a in range(0, len(one_county_prop_url)):\n",
    "        one_county_prop_url[a]='https://www.redfin.com'+one_county_prop_url[a]\n",
    "    final_url =[]\n",
    "    for l in one_county_prop_url:\n",
    "        if l not in final_url:\n",
    "            final_url.append(l)\n",
    "    for x in county_name_list:\n",
    "        if x in properties:\n",
    "            properties[x]=properties[x]+final_url\n",
    "        else:\n",
    "            properties[x]=final_url\n",
    "        \n",
    "properties"
   ]
  },
  {
   "cell_type": "code",
   "execution_count": null,
   "id": "ae195385",
   "metadata": {},
   "outputs": [],
   "source": [
    "\n",
    "    "
   ]
  },
  {
   "cell_type": "code",
   "execution_count": null,
   "id": "6ca3ebf7",
   "metadata": {},
   "outputs": [],
   "source": []
  },
  {
   "cell_type": "code",
   "execution_count": null,
   "id": "c4da8d43",
   "metadata": {},
   "outputs": [],
   "source": []
  },
  {
   "cell_type": "code",
   "execution_count": null,
   "id": "7b78bd56",
   "metadata": {},
   "outputs": [],
   "source": []
  },
  {
   "cell_type": "code",
   "execution_count": null,
   "id": "23454bf8",
   "metadata": {},
   "outputs": [
    {
     "name": "stdout",
     "output_type": "stream",
     "text": [
      "0\n",
      "https://www.redfin.com/CA/Oakland/655-12th-St-94607/unit-112/home/1553948\n",
      "acre\n",
      "1\n",
      "https://www.redfin.com/CA/Oakland/4475-Redding-St-94619/home/561724\n",
      "acre\n",
      "2\n",
      "https://www.redfin.com/CA/Oakland/6501-San-Pablo-Ave-94608/unit-404/home/12116522\n",
      "acre\n",
      "3\n",
      "https://www.redfin.com/CA/Fremont/36088-Soapberry-Cmn-94536/unit-31/home/22806783\n",
      "acre\n",
      "4\n",
      "https://www.redfin.com/CA/Union-City/32824-Oakdale-Ct-94587/home/1877537\n",
      "acre\n",
      "5\n",
      "https://www.redfin.com/CA/Dublin/Undisclosed-address-94568/home/1168755\n",
      "acre\n",
      "6\n",
      "https://www.redfin.com/CA/Oakland/2580-Pleasant-St-94602/home/1727436\n",
      "acre\n",
      "7\n",
      "https://www.redfin.com/CA/Pleasanton/1858-Brooktree-Way-94566/home/1194282\n",
      "acre\n",
      "8\n",
      "https://www.redfin.com/CA/Alameda/215-Kevington-Pl-94502/home/1905334\n",
      "acre\n",
      "9\n",
      "https://www.redfin.com/CA/Berkeley/1405-Harmon-St-94702/home/1817934\n",
      "acre\n",
      "10\n",
      "https://www.redfin.com/CA/Oakland/3867-Brown-Ave-94619/home/528574\n",
      "acre\n",
      "11\n",
      "https://www.redfin.com/CA/Hayward/27701-Eucalyptus-Ct-94544/home/1735626\n",
      "acre\n",
      "12\n",
      "https://www.redfin.com/CA/Newark/8145-Juniper-Ave-94560/home/851616\n",
      "acre\n",
      "13\n",
      "https://www.redfin.com/CA/Hayward/1544-D-St-94541/home/2042540\n",
      "acre\n",
      "14\n",
      "https://www.redfin.com/CA/San-Leandro/1500-Plaza-Dr-94578/home/797324\n",
      "acre\n",
      "15\n",
      "https://www.redfin.com/CA/Newark/6352-Montcalm-Ave-94560/home/1997587\n",
      "acre\n",
      "16\n",
      "https://www.redfin.com/CA/Oakland/3382-62nd-Ave-94605/home/1445590\n",
      "acre\n",
      "17\n",
      "https://www.redfin.com/CA/Oakland/438-W-Grand-Ave-94612/unit-528/home/12459020\n",
      "acre\n",
      "18\n",
      "https://www.redfin.com/CA/Dublin/5830-Midnight-Pl-94568/unit-E/home/172871767\n",
      "acre\n",
      "19\n",
      "https://www.redfin.com/CA/Oakland/3015-Myrtle-St-94608/unit-3/home/22963656\n",
      "acre\n",
      "20\n",
      "https://www.redfin.com/CA/Oakland/10930-Apricot-St-94603/home/1607983\n",
      "acre\n",
      "21\n",
      "https://www.redfin.com/CA/Hayward/2659-Home-Ave-94542/home/815016\n",
      "acre\n",
      "22\n",
      "https://www.redfin.com/CA/Oakland/6045-Skyline-Blvd-94611/home/1914698\n",
      "acre\n",
      "23\n",
      "https://www.redfin.com/CA/Fremont/201-E-Las-Palmas-Ave-94539/home/1927074\n",
      "acre\n",
      "24\n",
      "https://www.redfin.com/CA/Fremont/42111-Osgood-Rd-94539/unit-504/home/168829588\n",
      "acre\n",
      "25\n",
      "https://www.redfin.com/CA/Oakland/19-Ealing-Ln-94608/home/17187270\n",
      "acre\n",
      "26\n",
      "https://www.redfin.com/CA/Fremont/42111-Osgood-Rd-94539/unit-422/home/168829575\n",
      "acre\n",
      "27\n",
      "https://www.redfin.com/CA/Fremont/42111-Osgood-Rd-94539/unit-419/home/168829572\n",
      "acre\n",
      "28\n",
      "https://www.redfin.com/CA/Oakland/3072-22nd-Ave-94602/home/1761069\n",
      "acre\n",
      "29\n",
      "https://www.redfin.com/CA/Castro-Valley/2576-La-Don-Ct-94546/home/2002180\n",
      "acre\n",
      "30\n",
      "https://www.redfin.com/CA/Hayward/1160-D-St-94541/home/1373902\n",
      "acre\n",
      "31\n",
      "https://www.redfin.com/CA/Emeryville/1078-48th-St-94608/home/1366797\n",
      "acre\n",
      "32\n",
      "https://www.redfin.com/CA/Oakland/20-Ascot-Pl-94611/home/614220\n",
      "acre\n",
      "33\n",
      "https://www.redfin.com/CA/Hayward/1505-Connecticut-St-94545/home/184508956\n",
      "acre\n",
      "34\n",
      "https://www.redfin.com/CA/Oakland/730-Canyon-Oaks-Dr-94605/unit-E/home/1268180\n",
      "acre\n",
      "35\n",
      "https://www.redfin.com/CA/Alameda/152-Brighton-Rd-94502/home/1731122\n",
      "acre\n",
      "36\n",
      "https://www.redfin.com/CA/Oakland/4732-Fair-Ave-94619/home/530994\n",
      "acre\n",
      "37\n",
      "https://www.redfin.com/CA/Oakland/8117-Greenly-Dr-94605/home/1888977\n",
      "acre\n",
      "38\n",
      "https://www.redfin.com/CA/Piedmont/1016-Ashmount-Ave-94610/home/1482347\n",
      "acre\n",
      "39\n",
      "https://www.redfin.com/CA/Castro-Valley/21314-Gary-Dr-94546/unit-106/home/542713\n",
      "acre\n",
      "40\n",
      "https://www.redfin.com/CA/Hayward/2020-Hill-Ave-94541/home/958478\n",
      "acre\n",
      "41\n",
      "https://www.redfin.com/CA/Piedmont/155-Hagar-Ave-94611/home/645497\n",
      "acre\n",
      "42\n",
      "https://www.redfin.com/CA/Oakland/2315-Bartlett-St-94601/home/1820696\n",
      "acre\n",
      "43\n",
      "https://www.redfin.com/CA/Oakland/3059-Richmond-Blvd-94611/home/1999717\n",
      "acre\n",
      "44\n",
      "https://www.redfin.com/CA/Oakland/3032-Hyde-St-94601/home/921668\n",
      "acre\n",
      "45\n",
      "https://www.redfin.com/CA/Oakland/3657-Victor-Ave-94619/home/1141399\n",
      "acre\n",
      "46\n",
      "https://www.redfin.com/CA/Castro-Valley/21682-Shadyspring-Rd-94546/home/1924857\n",
      "acre\n",
      "47\n",
      "https://www.redfin.com/CA/Fremont/5416-Cleveland-Pl-94538/home/1771968\n",
      "acre\n",
      "48\n",
      "https://www.redfin.com/CA/Union-City/1009-Carnelian-Ter-94587/home/12115318\n",
      "acre\n",
      "49\n",
      "https://www.redfin.com/CA/Oakland/1007-41st-St-94608/unit-112/home/12115007\n",
      "acre\n",
      "50\n",
      "https://www.redfin.com/CA/San-Leandro/1365-Parker-St-94577/home/1294634\n",
      "acre\n",
      "51\n",
      "https://www.redfin.com/CA/Oakland/7087-Skyline-Blvd-94611/home/22720575\n",
      "acre\n",
      "52\n",
      "https://www.redfin.com/CA/San-Lorenzo/16032-Via-Harriet-94580/home/933868\n",
      "acre\n",
      "53\n",
      "https://www.redfin.com/CA/Hayward/260-Industrial-Pkwy-94544/unit-11/home/1912303\n",
      "acre\n",
      "54\n",
      "https://www.redfin.com/CA/Pleasanton/985-Riesling-Dr-94566/home/1794372\n",
      "acre\n",
      "55\n",
      "https://www.redfin.com/CA/Oakland/1328-83rd-Ave-94621/home/2113110\n",
      "acre\n",
      "56\n",
      "https://www.redfin.com/CA/Fremont/40246-Davis-Ct-94538/home/1107421\n",
      "acre\n",
      "57\n",
      "https://www.redfin.com/CA/Pleasanton/4903-Middleton-Pl-94566/home/2021895\n",
      "acre\n",
      "58\n",
      "https://www.redfin.com/CA/Oakland/1679-12th-St-94607/home/184475444\n",
      "acre\n",
      "59\n",
      "https://www.redfin.com/CA/Oakland/5941-Colton-Blvd-94611/home/621362\n",
      "acre\n",
      "60\n",
      "https://www.redfin.com/CA/Fremont/4901-Sterling-Dr-94536/home/1396737\n",
      "acre\n",
      "61\n",
      "https://www.redfin.com/CA/Newark/39887-Cedar-Blvd-94560/unit-253/home/1489328\n",
      "acre\n",
      "62\n",
      "https://www.redfin.com/CA/Fremont/1918-Kilowatt-Way-94539/unit-102/home/182325077\n",
      "acre\n",
      "63\n",
      "https://www.redfin.com/CA/Emeryville/6363-Christie-Ave-94608/unit-3007/home/640244\n",
      "acre\n",
      "64\n",
      "https://www.redfin.com/CA/Oakland/4800-Webster-St-94609/home/1962242\n",
      "acre\n",
      "65\n",
      "https://www.redfin.com/CA/Fremont/37168-Meadowbrook-Cmn-94536/unit-201/home/1505818\n",
      "acre\n",
      "66\n",
      "https://www.redfin.com/CA/Hayward/1575-172nd-Ave-94541/home/1036701\n",
      "acre\n",
      "67\n",
      "https://www.redfin.com/CA/Alameda/2510-San-Jose-Ave-94501/home/1610327\n",
      "acre\n",
      "68\n",
      "https://www.redfin.com/CA/Berkeley/1171-Hearst-Ave-94702/unit-B/home/184474447\n",
      "acre\n",
      "69\n",
      "https://www.redfin.com/CA/Oakland/22-Moss-Ave-94610/unit-312/home/184474385\n",
      "acre\n",
      "70\n",
      "https://www.redfin.com/CA/Dublin/5588-Campbell-Ln-94568/home/112887446\n",
      "acre\n",
      "71\n",
      "https://www.redfin.com/CA/Dublin/5799-El-Dorado-Ln-94568/home/167331761\n",
      "acre\n",
      "72\n",
      "https://www.redfin.com/CA/Livermore/1270-Gusty-Loop-94550/unit-7/home/143119541\n",
      "acre\n",
      "73\n",
      "https://www.redfin.com/CA/Oakland/2648-68th-Ave-94605/home/1801060\n",
      "acre\n",
      "74\n",
      "https://www.redfin.com/CA/Castro-Valley/21447-Bedford-Dr-94546/home/1452390\n",
      "acre\n",
      "75\n"
     ]
    }
   ],
   "source": [
    "#creating lists for the attributes and extracting property information using tags like div, span, etc\n",
    "#using try & except blocks to identify errors and handle them\n",
    "\n",
    "Street= []\n",
    "City = []\n",
    "State = []\n",
    "Zipcode = []\n",
    "Price = []\n",
    "Beds = []\n",
    "Bath = []\n",
    "Sqft = []\n",
    "Property_Type = []\n",
    "Year_Built = []\n",
    "Status = []\n",
    "Walk_Score = []\n",
    "Bike_Score = []\n",
    "Acre=[]\n",
    "count=0\n",
    "for county in properties:\n",
    "    for prop in properties[county]:\n",
    "        print(count)\n",
    "        count=count+1\n",
    "        al_url = prop\n",
    "        al_text = requests.get(al_url,headers={'User-Agent': 'Mozilla/5.0'}).text\n",
    "        al_soup = BS(al_text,'html5lib')\n",
    "        \n",
    "        try:\n",
    "            street = al_soup.find('div',attrs={'class':'street-address'}).text.split(',')[0]\n",
    "        except:\n",
    "            street=np.nan\n",
    "            print(al_url)\n",
    "            print('street')\n",
    "        Street.append(street)\n",
    "        \n",
    "        try:\n",
    "            city = al_soup.find('div',attrs={'class':'dp-subtext'}).text.split(', ')[0]\n",
    "        except:\n",
    "            city=np.nan\n",
    "            print(al_url)\n",
    "            print('city')\n",
    "        City.append(city)\n",
    "        \n",
    "        try:\n",
    "            state = al_soup.find('div',attrs={'class':'dp-subtext'}).text.split(', ')[1].split(' ')[0]\n",
    "        except:\n",
    "            state=np.nan\n",
    "            print(al_url)\n",
    "            print('state')\n",
    "        State.append(state)\n",
    "        \n",
    "        try:\n",
    "            zipcode = al_soup.find('div',attrs={'class':'dp-subtext'}).text.split(', ')[-1].split(' ')[-1]\n",
    "            \n",
    "        except:\n",
    "            zipcode=np.nan\n",
    "            print(al_url)\n",
    "            print('zipcode')\n",
    "        Zipcode.append(zipcode)    \n",
    "        \n",
    "        try:\n",
    "            price = al_soup.find('div',attrs={'class':'statsValue'}).text.split('$')[1]\n",
    "        except:\n",
    "            price=np.nan\n",
    "            print(al_url)\n",
    "            print('price')\n",
    "        Price.append(price)\n",
    "        \n",
    "        try:\n",
    "            bed_str = al_soup.find('div',attrs={'data-rf-test-id':'abp-beds'}).text.split('B')[0]\n",
    "            beds = int(bed_str)\n",
    "        except:\n",
    "            beds=np.nan\n",
    "            print(al_url)\n",
    "            print('beds')\n",
    "        Beds.append(beds)\n",
    "        \n",
    "        try:\n",
    "            bath_str =al_soup.find('div',attrs ={'data-rf-test-id':'abp-baths'}).text.split('B')[0]\n",
    "            bath = float(bath_str)\n",
    "        except:\n",
    "            bath=np.nan\n",
    "            print(al_url)\n",
    "            print('bath')\n",
    "        Bath.append(bath)\n",
    "        \n",
    "        try:\n",
    "            sqft_str =al_soup.find('div',attrs ={'data-rf-test-id':'abp-sqFt'}).text.split('S')[0].replace(',','')\n",
    "            sqft = float(sqft_str)\n",
    "        except:\n",
    "            sqft=np.nan\n",
    "            print(al_url)\n",
    "            print('sqft')\n",
    "        Sqft.append(sqft)\n",
    "        \n",
    "        try:\n",
    "            acre_str =al_soup.find('div',attrs ={'data-rf-test-id':'abp-sqFt'}).text.split('A')[0]\n",
    "            acre = float(acre_str)\n",
    "        except:\n",
    "            acre=np.nan\n",
    "            print(al_url)\n",
    "            print('acre')\n",
    "        Acre.append(acre)\n",
    "        \n",
    "        \n",
    "        try:\n",
    "            div_prop = al_soup.findAll('div',attrs={'class':'keyDetail font-weight-roman font-size-base'})\n",
    "            property_type =''\n",
    "            for tag in div_prop:\n",
    "                if(tag.span.text=='Property Type'):\n",
    "                    property_type = property_type+tag.find('span',attrs={'class':'content text-right'}).text\n",
    "        except:\n",
    "            property_type = np.nan\n",
    "            print(al_url)\n",
    "            print('prop_type')\n",
    "        Property_Type.append(property_type)\n",
    "        \n",
    "        try:\n",
    "            div_year_built = al_soup.findAll('div',attrs={'class':'keyDetail font-weight-roman font-size-base'})\n",
    "            year_built =''\n",
    "            for tag in div_year_built:\n",
    "                if(tag.span.text=='Year Built'):\n",
    "                    year_built = int(year_built+tag.find('span',attrs={'class':'content text-right'}).text)\n",
    "        except:\n",
    "            year_built=np.nan\n",
    "            print(al_url)\n",
    "            print('year')\n",
    "        Year_Built.append(year_built)\n",
    "        \n",
    "        try:\n",
    "            div_status = al_soup.findAll('div',attrs={'class':'keyDetail font-weight-roman font-size-base'})\n",
    "            status =''\n",
    "            for tag in div_status:\n",
    "                if(tag.span.text=='Status'):\n",
    "                    status = tag.find('span',attrs={'class':'DefinitionFlyoutLink inline-block underline clickable'})\n",
    "                    if status == None:\n",
    "                        status = tag.find('span',attrs={'class':'content text-right'})\n",
    "        except:\n",
    "            status=np.nan\n",
    "            print(al_url)\n",
    "            print('status')\n",
    "        Status.append(status.text)\n",
    "\n",
    "        try:\n",
    "            walk_score = int(al_soup.find('div',attrs={'class':'transport-icon-and-percentage walkscore'}).text.split(' /')[0])\n",
    "        except:\n",
    "            walk_score=np.nan\n",
    "            print(al_url)\n",
    "            print('walk')\n",
    "        Walk_Score.append(walk_score)\n",
    "        \n",
    "        try:\n",
    "            bike_score = int(al_soup.find('div',attrs={'class':'transport-icon-and-percentage bikescore'}).text.split(' /')[0])\n",
    "        except:\n",
    "            bike_score=np.nan\n",
    "            print(al_url)\n",
    "            print('bike')\n",
    "        Bike_Score.append(bike_score)\n",
    "       \n"
   ]
  },
  {
   "cell_type": "code",
   "execution_count": null,
   "id": "bc6a9012",
   "metadata": {},
   "outputs": [],
   "source": []
  },
  {
   "cell_type": "code",
   "execution_count": null,
   "id": "755d8f20",
   "metadata": {},
   "outputs": [],
   "source": []
  },
  {
   "cell_type": "code",
   "execution_count": null,
   "id": "f5f72760",
   "metadata": {},
   "outputs": [],
   "source": [
    "County=[]\n",
    "for key in properties:\n",
    "    for value in properties[key]:\n",
    "       County.append(key)\n",
    "County"
   ]
  },
  {
   "cell_type": "code",
   "execution_count": null,
   "id": "356429c4",
   "metadata": {},
   "outputs": [],
   "source": []
  },
  {
   "cell_type": "code",
   "execution_count": null,
   "id": "fa4496be",
   "metadata": {},
   "outputs": [],
   "source": []
  },
  {
   "cell_type": "code",
   "execution_count": null,
   "id": "26742d84",
   "metadata": {},
   "outputs": [],
   "source": [
    "#creating data frame "
   ]
  },
  {
   "cell_type": "code",
   "execution_count": null,
   "id": "5bb84382",
   "metadata": {},
   "outputs": [],
   "source": [
    "df=pd.DataFrame(data={'Street':Street,'City':City,'County':County,'State':State,'Zipcode':Zipcode,\n",
    "                      'Price':Price,\n",
    "                      'WalkScore':Walk_Score,\n",
    "                     'Bike_Score':Bike_Score,'Beds':Beds,'Bath':Bath,'Sqft':Sqft,'Acre':Acre,\n",
    "                      'Property_Type':Property_Type,\n",
    "                     'Year_Built':Year_Built,'Status':Status})"
   ]
  },
  {
   "cell_type": "code",
   "execution_count": null,
   "id": "1c9c96f5",
   "metadata": {},
   "outputs": [],
   "source": []
  },
  {
   "cell_type": "code",
   "execution_count": null,
   "id": "0c509a81",
   "metadata": {},
   "outputs": [],
   "source": []
  },
  {
   "cell_type": "code",
   "execution_count": null,
   "id": "d15b3dfb",
   "metadata": {},
   "outputs": [],
   "source": []
  },
  {
   "cell_type": "code",
   "execution_count": null,
   "id": "3c73bcf8",
   "metadata": {},
   "outputs": [],
   "source": []
  },
  {
   "cell_type": "code",
   "execution_count": null,
   "id": "1eecfd4f",
   "metadata": {},
   "outputs": [],
   "source": [
    "df"
   ]
  },
  {
   "cell_type": "code",
   "execution_count": null,
   "id": "33e873bf",
   "metadata": {},
   "outputs": [],
   "source": [
    "df.isna().sum()"
   ]
  },
  {
   "cell_type": "code",
   "execution_count": null,
   "id": "d59fb78e",
   "metadata": {},
   "outputs": [],
   "source": []
  },
  {
   "cell_type": "code",
   "execution_count": null,
   "id": "6748babd",
   "metadata": {},
   "outputs": [],
   "source": [
    "#Data cleaning"
   ]
  },
  {
   "cell_type": "code",
   "execution_count": null,
   "id": "d7f93b37",
   "metadata": {},
   "outputs": [],
   "source": [
    "(df['Beds'].isna() & df['Bath'].isna()).sum()"
   ]
  },
  {
   "cell_type": "code",
   "execution_count": null,
   "id": "28ff28d2",
   "metadata": {},
   "outputs": [],
   "source": [
    "#If both beds and Bath have null values -> that indicates that the property is an empty land and there is no\n",
    "#built house. We will drop such rows"
   ]
  },
  {
   "cell_type": "code",
   "execution_count": null,
   "id": "d6e1aa53",
   "metadata": {},
   "outputs": [],
   "source": [
    "df = df.dropna(subset=['Beds','Bath'],how='all')"
   ]
  },
  {
   "cell_type": "code",
   "execution_count": null,
   "id": "02ca787a",
   "metadata": {},
   "outputs": [],
   "source": [
    "#Street, City, State, Zipcode, Price have small number of null values. We will remove such rows since that will affect\n",
    "#our analysis and insights"
   ]
  },
  {
   "cell_type": "code",
   "execution_count": null,
   "id": "58ab5892",
   "metadata": {},
   "outputs": [],
   "source": [
    "df=df.dropna(subset=['Street','City','State','Zipcode','Price'])"
   ]
  },
  {
   "cell_type": "code",
   "execution_count": null,
   "id": "3f8051d9",
   "metadata": {},
   "outputs": [],
   "source": [
    "#replacing walk score and bike score null values with score of 0. Does not make sense to delete the entire row\n",
    "#based on these scores as null value indicates score of 0."
   ]
  },
  {
   "cell_type": "code",
   "execution_count": null,
   "id": "a3fc32b1",
   "metadata": {},
   "outputs": [],
   "source": [
    "df['WalkScore'].fillna(0,inplace=True)\n",
    "df['Bike_Score'].fillna(0,inplace=True)"
   ]
  },
  {
   "cell_type": "code",
   "execution_count": null,
   "id": "e3196a97",
   "metadata": {},
   "outputs": [],
   "source": [
    "#We have removed properties where both beds and baths are 0\n",
    "#To deal with remaining null values in Individual columns of Beds & Baths, we will replace it with 0 since \n",
    "#that means there is either no bedroom or not bathroom in that property"
   ]
  },
  {
   "cell_type": "code",
   "execution_count": null,
   "id": "20213dd5",
   "metadata": {},
   "outputs": [],
   "source": [
    "df['Beds'].fillna(0,inplace=True)\n",
    "df['Bath'].fillna(0,inplace=True)"
   ]
  },
  {
   "cell_type": "code",
   "execution_count": null,
   "id": "6456f22c",
   "metadata": {},
   "outputs": [],
   "source": [
    "df.isna().sum()"
   ]
  },
  {
   "cell_type": "code",
   "execution_count": null,
   "id": "cd6c5fc4",
   "metadata": {},
   "outputs": [],
   "source": [
    "#deleting rows where sqft is not provided(null) since sqft is a part of our analysis"
   ]
  },
  {
   "cell_type": "code",
   "execution_count": null,
   "id": "96554286",
   "metadata": {},
   "outputs": [],
   "source": [
    "df=df.dropna(subset=['Sqft'])"
   ]
  },
  {
   "cell_type": "code",
   "execution_count": null,
   "id": "b925f4ca",
   "metadata": {},
   "outputs": [],
   "source": [
    "#dropping the acre column. It was only used to identify the values where we do not have sqft"
   ]
  },
  {
   "cell_type": "code",
   "execution_count": null,
   "id": "6afcee72",
   "metadata": {},
   "outputs": [],
   "source": [
    "df=df.drop(columns=['Acre'])"
   ]
  },
  {
   "cell_type": "code",
   "execution_count": null,
   "id": "ceeb15eb",
   "metadata": {},
   "outputs": [],
   "source": [
    "df=df.reset_index()"
   ]
  },
  {
   "cell_type": "code",
   "execution_count": null,
   "id": "415d7ee2",
   "metadata": {},
   "outputs": [],
   "source": [
    "df=df.drop(columns=['index'])"
   ]
  },
  {
   "cell_type": "code",
   "execution_count": null,
   "id": "66c95e3e",
   "metadata": {},
   "outputs": [],
   "source": [
    "df"
   ]
  },
  {
   "cell_type": "code",
   "execution_count": null,
   "id": "86f77f52",
   "metadata": {},
   "outputs": [],
   "source": []
  },
  {
   "cell_type": "code",
   "execution_count": null,
   "id": "089598ed",
   "metadata": {},
   "outputs": [],
   "source": []
  },
  {
   "cell_type": "code",
   "execution_count": null,
   "id": "1faa13b2",
   "metadata": {},
   "outputs": [],
   "source": []
  },
  {
   "cell_type": "code",
   "execution_count": null,
   "id": "57402ab6",
   "metadata": {},
   "outputs": [],
   "source": [
    "#remove +sign & special characters\n",
    "for i in range(0,len(df)):\n",
    "    if(df['Price'][i][-1]=='+'):\n",
    "        df['Price'][i]=df['Price'][i][0:-1]  \n",
    "    else:\n",
    "        df['Price'][i]=df['Price'][i]\n",
    "        "
   ]
  },
  {
   "cell_type": "code",
   "execution_count": null,
   "id": "5eb8ab84",
   "metadata": {},
   "outputs": [],
   "source": [
    "#convert data type to relevant types"
   ]
  },
  {
   "cell_type": "code",
   "execution_count": null,
   "id": "af03a7c6",
   "metadata": {},
   "outputs": [],
   "source": [
    "df['Price'] = df['Price'].str.replace(',','')"
   ]
  },
  {
   "cell_type": "code",
   "execution_count": null,
   "id": "6d2a5222",
   "metadata": {},
   "outputs": [],
   "source": [
    "df['Price'] = df['Price'].astype(float)\n",
    "df.loc[df['Year_Built'] == '', 'Year_Built'] = 0\n",
    "\n"
   ]
  },
  {
   "cell_type": "code",
   "execution_count": null,
   "id": "53d96f24",
   "metadata": {},
   "outputs": [],
   "source": [
    "df['Year_Built'] = df['Year_Built'].astype(int)"
   ]
  },
  {
   "cell_type": "code",
   "execution_count": null,
   "id": "dfb49e92",
   "metadata": {},
   "outputs": [],
   "source": [
    "df.loc[df['Year_Built'] == 0, 'Year_Built'] = np.nan"
   ]
  },
  {
   "cell_type": "code",
   "execution_count": null,
   "id": "df2faf37",
   "metadata": {},
   "outputs": [],
   "source": [
    "df.dtypes"
   ]
  },
  {
   "cell_type": "code",
   "execution_count": null,
   "id": "2555bf85",
   "metadata": {},
   "outputs": [],
   "source": [
    "#Normalization"
   ]
  },
  {
   "cell_type": "code",
   "execution_count": null,
   "id": "6f8eac61",
   "metadata": {},
   "outputs": [],
   "source": [
    "df['Street']=df['Street'].apply(lambda x:x[0]+x[1:].lower())"
   ]
  },
  {
   "cell_type": "code",
   "execution_count": null,
   "id": "709ac72e",
   "metadata": {},
   "outputs": [],
   "source": [
    "df['City']=df['City'].apply(lambda x:x[0]+x[1:].lower())"
   ]
  },
  {
   "cell_type": "code",
   "execution_count": null,
   "id": "242ef0fb",
   "metadata": {},
   "outputs": [],
   "source": [
    "df['State']=df['State'].apply(lambda x:x[0]+x[1:].lower())"
   ]
  },
  {
   "cell_type": "code",
   "execution_count": null,
   "id": "b132ef71",
   "metadata": {},
   "outputs": [],
   "source": [
    "df['Property_Type']=df['Property_Type'].apply(lambda x:x[0]+x[1:].lower())"
   ]
  },
  {
   "cell_type": "code",
   "execution_count": null,
   "id": "54e77f71",
   "metadata": {},
   "outputs": [],
   "source": [
    "df['Status']=df['Status'].apply(lambda x:x[0]+x[1:].lower())"
   ]
  },
  {
   "cell_type": "code",
   "execution_count": null,
   "id": "cad1df10",
   "metadata": {},
   "outputs": [],
   "source": [
    "df"
   ]
  },
  {
   "cell_type": "code",
   "execution_count": null,
   "id": "b68ac802",
   "metadata": {},
   "outputs": [],
   "source": [
    "#removing duplicates"
   ]
  },
  {
   "cell_type": "code",
   "execution_count": null,
   "id": "9cef1284",
   "metadata": {},
   "outputs": [],
   "source": [
    "df.duplicated().value_counts()"
   ]
  },
  {
   "cell_type": "code",
   "execution_count": null,
   "id": "08f51206",
   "metadata": {},
   "outputs": [],
   "source": [
    "df=df.drop_duplicates()"
   ]
  },
  {
   "cell_type": "code",
   "execution_count": null,
   "id": "ad8bee40",
   "metadata": {},
   "outputs": [],
   "source": [
    "df"
   ]
  },
  {
   "cell_type": "code",
   "execution_count": null,
   "id": "af9573aa",
   "metadata": {},
   "outputs": [],
   "source": []
  },
  {
   "cell_type": "code",
   "execution_count": null,
   "id": "7bf0763d",
   "metadata": {},
   "outputs": [],
   "source": [
    "df.kurt(numeric_only=True)"
   ]
  },
  {
   "cell_type": "code",
   "execution_count": null,
   "id": "babc0d60",
   "metadata": {},
   "outputs": [],
   "source": [
    "df['Price'].describe()"
   ]
  },
  {
   "cell_type": "code",
   "execution_count": null,
   "id": "ecb23e41",
   "metadata": {},
   "outputs": [],
   "source": []
  },
  {
   "cell_type": "code",
   "execution_count": null,
   "id": "0494d027",
   "metadata": {},
   "outputs": [],
   "source": [
    "df['Beds'].describe()"
   ]
  },
  {
   "cell_type": "code",
   "execution_count": null,
   "id": "ccc3d2fc",
   "metadata": {},
   "outputs": [],
   "source": [
    "df['Bath'].describe()"
   ]
  },
  {
   "cell_type": "code",
   "execution_count": null,
   "id": "72fd92d8",
   "metadata": {},
   "outputs": [],
   "source": [
    "df['Sqft'].describe()"
   ]
  },
  {
   "cell_type": "code",
   "execution_count": null,
   "id": "60191220",
   "metadata": {},
   "outputs": [],
   "source": []
  },
  {
   "cell_type": "code",
   "execution_count": null,
   "id": "a1bba87b",
   "metadata": {},
   "outputs": [],
   "source": []
  },
  {
   "cell_type": "code",
   "execution_count": null,
   "id": "4017a9df",
   "metadata": {},
   "outputs": [],
   "source": [
    "#Calculating Quartiles, IQR and removing the outliers"
   ]
  },
  {
   "cell_type": "code",
   "execution_count": null,
   "id": "3e4c68ef",
   "metadata": {},
   "outputs": [],
   "source": [
    "Q1_Price = df['Price'].quantile(0.25)\n",
    "Q3_Price = df['Price'].quantile(0.75)\n",
    "IQR_Price = Q3_Price - Q1_Price\n",
    "IQR_Price"
   ]
  },
  {
   "cell_type": "code",
   "execution_count": null,
   "id": "6c2258b8",
   "metadata": {},
   "outputs": [],
   "source": [
    "Q1_Beds = df['Beds'].quantile(0.25)\n",
    "Q3_Beds = df['Beds'].quantile(0.75)\n",
    "IQR_Beds = Q3_Beds - Q1_Beds\n",
    "IQR_Beds"
   ]
  },
  {
   "cell_type": "code",
   "execution_count": null,
   "id": "8a6cb7d6",
   "metadata": {},
   "outputs": [],
   "source": [
    "Q1_Bath = df['Bath'].quantile(0.25)\n",
    "Q3_Bath = df['Bath'].quantile(0.75)\n",
    "IQR_Bath = Q3_Bath - Q1_Bath\n",
    "IQR_Bath"
   ]
  },
  {
   "cell_type": "code",
   "execution_count": null,
   "id": "90e61afc",
   "metadata": {},
   "outputs": [],
   "source": [
    "Q1_Sqft = df['Sqft'].quantile(0.25)\n",
    "Q3_Sqft = df['Sqft'].quantile(0.75)\n",
    "IQR_Sqft = Q3_Sqft - Q1_Sqft\n",
    "IQR_Sqft"
   ]
  },
  {
   "cell_type": "code",
   "execution_count": null,
   "id": "98fd310b",
   "metadata": {},
   "outputs": [],
   "source": [
    "df['Price'] = df['Price'][~((df['Price'] < (Q1_Price - 1.5 * IQR_Price)) |(df['Price'] > \n",
    "                                                                           (Q3_Price + 1.5 * IQR_Price)))]"
   ]
  },
  {
   "cell_type": "code",
   "execution_count": null,
   "id": "1b490ee3",
   "metadata": {},
   "outputs": [],
   "source": [
    "df['Beds'] = df['Beds'][~((df['Beds'] < (Q1_Beds - 1.5 * IQR_Beds)) |(df['Beds'] > \n",
    "                                                                           (Q3_Beds + 1.5 * IQR_Beds)))]"
   ]
  },
  {
   "cell_type": "code",
   "execution_count": null,
   "id": "df1e5934",
   "metadata": {},
   "outputs": [],
   "source": [
    "df['Bath'] = df['Bath'][~((df['Bath'] < (Q1_Bath - 1.5 * IQR_Bath)) |(df['Bath'] > \n",
    "                                                                           (Q3_Bath + 1.5 * IQR_Bath)))]"
   ]
  },
  {
   "cell_type": "code",
   "execution_count": null,
   "id": "8d3bffd4",
   "metadata": {},
   "outputs": [],
   "source": [
    "df['Sqft'] = df['Sqft'][~((df['Sqft'] < (Q1_Sqft - 1.5 * IQR_Sqft)) |(df['Sqft'] > \n",
    "                                                                           (Q3_Sqft + 1.5 * IQR_Sqft)))]"
   ]
  },
  {
   "cell_type": "code",
   "execution_count": null,
   "id": "0390cd6c",
   "metadata": {},
   "outputs": [],
   "source": []
  },
  {
   "cell_type": "code",
   "execution_count": null,
   "id": "c6ca1e84",
   "metadata": {},
   "outputs": [],
   "source": [
    "df.isna().sum() #number of outliers removed"
   ]
  },
  {
   "cell_type": "code",
   "execution_count": null,
   "id": "0ee01d64",
   "metadata": {},
   "outputs": [],
   "source": []
  },
  {
   "cell_type": "code",
   "execution_count": null,
   "id": "20482c25",
   "metadata": {},
   "outputs": [],
   "source": [
    "df=df.dropna() #removing the null values. The outliers were removed and replaced by null values"
   ]
  },
  {
   "cell_type": "code",
   "execution_count": null,
   "id": "d90dfa04",
   "metadata": {},
   "outputs": [],
   "source": [
    "df"
   ]
  },
  {
   "cell_type": "code",
   "execution_count": null,
   "id": "2138f155",
   "metadata": {},
   "outputs": [],
   "source": []
  },
  {
   "cell_type": "code",
   "execution_count": null,
   "id": "08b0a07e",
   "metadata": {},
   "outputs": [],
   "source": [
    "#Exporting to CSV"
   ]
  },
  {
   "cell_type": "code",
   "execution_count": null,
   "id": "92e1c1db",
   "metadata": {},
   "outputs": [],
   "source": [
    "df.to_csv('DA_Grp_9_Redfin_Dataset.csv',index=False)"
   ]
  },
  {
   "cell_type": "code",
   "execution_count": null,
   "id": "ea7334f1",
   "metadata": {},
   "outputs": [],
   "source": []
  }
 ],
 "metadata": {
  "kernelspec": {
   "display_name": "Python 3 (ipykernel)",
   "language": "python",
   "name": "python3"
  },
  "language_info": {
   "codemirror_mode": {
    "name": "ipython",
    "version": 3
   },
   "file_extension": ".py",
   "mimetype": "text/x-python",
   "name": "python",
   "nbconvert_exporter": "python",
   "pygments_lexer": "ipython3",
   "version": "3.9.12"
  }
 },
 "nbformat": 4,
 "nbformat_minor": 5
}
